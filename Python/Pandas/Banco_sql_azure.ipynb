{
 "cells": [
  {
   "cell_type": "code",
   "execution_count": 23,
   "metadata": {},
   "outputs": [],
   "source": [
    "import pyodbc as odbc\n",
    "import pandas as pd\n",
    "from sqlalchemy import create_engine"
   ]
  },
  {
   "cell_type": "code",
   "execution_count": 24,
   "metadata": {},
   "outputs": [],
   "source": [
    "def Conexao():\n",
    "    servidor = \"Driver={ODBC Driver 13 for SQL Server};Server=tcp:servidorbanco.database.windows.net,1433;Database=Casa;Uid=casa;Pwd=Si26Ra06Le08.;Encrypt=yes;TrustServerCertificate=no;Connection Timeout=30;\"\n",
    "    conexao =   odbc.connect(servidor)\n",
    "    return conexao"
   ]
  },
  {
   "cell_type": "code",
   "execution_count": 25,
   "metadata": {},
   "outputs": [
    {
     "ename": "OperationalError",
     "evalue": "('08001', '[08001] [Microsoft][ODBC Driver 13 for SQL Server]TCP Provider: Este host não é conhecido.\\r\\n (11001) (SQLDriverConnect); [08001] [Microsoft][ODBC Driver 13 for SQL Server]Login timeout expired (0); [08001] [Microsoft][ODBC Driver 13 for SQL Server]Invalid connection string attribute (0); [08001] [Microsoft][ODBC Driver 13 for SQL Server]A network-related or instance-specific error has occurred while establishing a connection to SQL Server. Server is not found or not accessible. Check if instance name is correct and if SQL Server is configured to allow remote connections. For more information see SQL Server Books Online. (11001)')",
     "output_type": "error",
     "traceback": [
      "\u001b[1;31m---------------------------------------------------------------------------\u001b[0m",
      "\u001b[1;31mOperationalError\u001b[0m                          Traceback (most recent call last)",
      "\u001b[1;32mc:\\Users\\sid-j\\OneDrive\\Documentos\\Estudos\\Python\\Pandas\\Banco_sql_azure.ipynb Célula: 3\u001b[0m in \u001b[0;36m<cell line: 1>\u001b[1;34m()\u001b[0m\n\u001b[1;32m----> <a href='vscode-notebook-cell:/c%3A/Users/sid-j/OneDrive/Documentos/Estudos/Python/Pandas/Banco_sql_azure.ipynb#ch0000002?line=0'>1</a>\u001b[0m conn \u001b[39m=\u001b[39m Conexao()\n\u001b[0;32m      <a href='vscode-notebook-cell:/c%3A/Users/sid-j/OneDrive/Documentos/Estudos/Python/Pandas/Banco_sql_azure.ipynb#ch0000002?line=2'>3</a>\u001b[0m sql \u001b[39m=\u001b[39m \u001b[39m\"\u001b[39m\u001b[39mselect * from TBL_Casa_01\u001b[39m\u001b[39m\"\u001b[39m\n\u001b[0;32m      <a href='vscode-notebook-cell:/c%3A/Users/sid-j/OneDrive/Documentos/Estudos/Python/Pandas/Banco_sql_azure.ipynb#ch0000002?line=4'>5</a>\u001b[0m dados \u001b[39m=\u001b[39m pd\u001b[39m.\u001b[39mread_sql(sql,conn)\n",
      "\u001b[1;32mc:\\Users\\sid-j\\OneDrive\\Documentos\\Estudos\\Python\\Pandas\\Banco_sql_azure.ipynb Célula: 3\u001b[0m in \u001b[0;36mConexao\u001b[1;34m()\u001b[0m\n\u001b[0;32m      <a href='vscode-notebook-cell:/c%3A/Users/sid-j/OneDrive/Documentos/Estudos/Python/Pandas/Banco_sql_azure.ipynb#ch0000002?line=0'>1</a>\u001b[0m \u001b[39mdef\u001b[39;00m \u001b[39mConexao\u001b[39m():\n\u001b[0;32m      <a href='vscode-notebook-cell:/c%3A/Users/sid-j/OneDrive/Documentos/Estudos/Python/Pandas/Banco_sql_azure.ipynb#ch0000002?line=1'>2</a>\u001b[0m     servidor \u001b[39m=\u001b[39m \u001b[39m\"\u001b[39m\u001b[39mDriver=\u001b[39m\u001b[39m{\u001b[39m\u001b[39mODBC Driver 13 for SQL Server};Server=tcp:servidorbanco.database.windows.net,1433;Database=Casa;Uid=casa;Pwd=Si26Ra06Le08.;Encrypt=yes;TrustServerCertificate=no;Connection Timeout=30;\u001b[39m\u001b[39m\"\u001b[39m\n\u001b[1;32m----> <a href='vscode-notebook-cell:/c%3A/Users/sid-j/OneDrive/Documentos/Estudos/Python/Pandas/Banco_sql_azure.ipynb#ch0000002?line=2'>3</a>\u001b[0m     conexao \u001b[39m=\u001b[39m   odbc\u001b[39m.\u001b[39;49mconnect(servidor)\n\u001b[0;32m      <a href='vscode-notebook-cell:/c%3A/Users/sid-j/OneDrive/Documentos/Estudos/Python/Pandas/Banco_sql_azure.ipynb#ch0000002?line=3'>4</a>\u001b[0m     \u001b[39mreturn\u001b[39;00m conexao\n",
      "\u001b[1;31mOperationalError\u001b[0m: ('08001', '[08001] [Microsoft][ODBC Driver 13 for SQL Server]TCP Provider: Este host não é conhecido.\\r\\n (11001) (SQLDriverConnect); [08001] [Microsoft][ODBC Driver 13 for SQL Server]Login timeout expired (0); [08001] [Microsoft][ODBC Driver 13 for SQL Server]Invalid connection string attribute (0); [08001] [Microsoft][ODBC Driver 13 for SQL Server]A network-related or instance-specific error has occurred while establishing a connection to SQL Server. Server is not found or not accessible. Check if instance name is correct and if SQL Server is configured to allow remote connections. For more information see SQL Server Books Online. (11001)')"
     ]
    }
   ],
   "source": [
    "conn = Conexao()\n",
    "\n",
    "sql = \"select * from TBL_Casa_01\"\n",
    "\n",
    "dados = pd.read_sql(sql,conn)"
   ]
  },
  {
   "cell_type": "code",
   "execution_count": 22,
   "metadata": {},
   "outputs": [
    {
     "data": {
      "text/html": [
       "<div>\n",
       "<style scoped>\n",
       "    .dataframe tbody tr th:only-of-type {\n",
       "        vertical-align: middle;\n",
       "    }\n",
       "\n",
       "    .dataframe tbody tr th {\n",
       "        vertical-align: top;\n",
       "    }\n",
       "\n",
       "    .dataframe thead th {\n",
       "        text-align: right;\n",
       "    }\n",
       "</style>\n",
       "<table border=\"1\" class=\"dataframe\">\n",
       "  <thead>\n",
       "    <tr style=\"text-align: right;\">\n",
       "      <th></th>\n",
       "      <th>ID</th>\n",
       "      <th>NOME</th>\n",
       "      <th>IDADE</th>\n",
       "      <th>SEXO</th>\n",
       "    </tr>\n",
       "  </thead>\n",
       "  <tbody>\n",
       "    <tr>\n",
       "      <th>0</th>\n",
       "      <td>1</td>\n",
       "      <td>Sidnei Lima Santos</td>\n",
       "      <td>38</td>\n",
       "      <td>M</td>\n",
       "    </tr>\n",
       "    <tr>\n",
       "      <th>1</th>\n",
       "      <td>2</td>\n",
       "      <td>Rafaela Gonçalves</td>\n",
       "      <td>37</td>\n",
       "      <td>F</td>\n",
       "    </tr>\n",
       "  </tbody>\n",
       "</table>\n",
       "</div>"
      ],
      "text/plain": [
       "   ID                NOME  IDADE SEXO\n",
       "0   1  Sidnei Lima Santos     38    M\n",
       "1   2   Rafaela Gonçalves     37    F"
      ]
     },
     "execution_count": 22,
     "metadata": {},
     "output_type": "execute_result"
    }
   ],
   "source": [
    "dados"
   ]
  }
 ],
 "metadata": {
  "kernelspec": {
   "display_name": "Python 3.9.12 ('base')",
   "language": "python",
   "name": "python3"
  },
  "language_info": {
   "codemirror_mode": {
    "name": "ipython",
    "version": 3
   },
   "file_extension": ".py",
   "mimetype": "text/x-python",
   "name": "python",
   "nbconvert_exporter": "python",
   "pygments_lexer": "ipython3",
   "version": "3.9.12"
  },
  "orig_nbformat": 4,
  "vscode": {
   "interpreter": {
    "hash": "1e075dbdb7487cde797a032c39d52ad1ecd7126c60782746716f6554ba46d6b7"
   }
  }
 },
 "nbformat": 4,
 "nbformat_minor": 2
}
